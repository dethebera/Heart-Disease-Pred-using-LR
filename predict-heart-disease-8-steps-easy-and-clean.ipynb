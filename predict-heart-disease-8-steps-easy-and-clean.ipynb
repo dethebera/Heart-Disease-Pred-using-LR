{
 "cells": [
  {
   "cell_type": "markdown",
   "metadata": {
    "papermill": {
     "duration": 0.01959,
     "end_time": "2020-12-25T08:42:35.633262",
     "exception": false,
     "start_time": "2020-12-25T08:42:35.613672",
     "status": "completed"
    },
    "tags": []
   },
   "source": [
    "\n",
    "# Importing Libraries"
   ]
  },
  {
   "cell_type": "code",
   "execution_count": 1,
   "metadata": {
    "_cell_guid": "b1076dfc-b9ad-4769-8c92-a6c4dae69d19",
    "_uuid": "8f2839f25d086af736a60e9eeb907d3b93b6e0e5",
    "execution": {
     "iopub.execute_input": "2020-12-25T08:42:35.670917Z",
     "iopub.status.busy": "2020-12-25T08:42:35.669967Z",
     "iopub.status.idle": "2020-12-25T08:42:35.672678Z",
     "shell.execute_reply": "2020-12-25T08:42:35.673404Z"
    },
    "papermill": {
     "duration": 0.024581,
     "end_time": "2020-12-25T08:42:35.673654",
     "exception": false,
     "start_time": "2020-12-25T08:42:35.649073",
     "status": "completed"
    },
    "tags": []
   },
   "outputs": [],
   "source": [
    "import pandas as pd\n",
    "import numpy as np\n",
    "import matplotlib.pyplot as plt"
   ]
  },
  {
   "cell_type": "markdown",
   "metadata": {
    "papermill": {
     "duration": 0.015703,
     "end_time": "2020-12-25T08:42:35.705893",
     "exception": false,
     "start_time": "2020-12-25T08:42:35.690190",
     "status": "completed"
    },
    "tags": []
   },
   "source": [
    "# Importing dataset"
   ]
  },
  {
   "cell_type": "code",
   "execution_count": 2,
   "metadata": {
    "_cell_guid": "79c7e3d0-c299-4dcb-8224-4455121ee9b0",
    "_uuid": "d629ff2d2480ee46fbb7e2d37f6b5fab8052498a",
    "execution": {
     "iopub.execute_input": "2020-12-25T08:42:35.754129Z",
     "iopub.status.busy": "2020-12-25T08:42:35.753233Z",
     "iopub.status.idle": "2020-12-25T08:42:35.782565Z",
     "shell.execute_reply": "2020-12-25T08:42:35.781779Z"
    },
    "papermill": {
     "duration": 0.061113,
     "end_time": "2020-12-25T08:42:35.782690",
     "exception": false,
     "start_time": "2020-12-25T08:42:35.721577",
     "status": "completed"
    },
    "tags": []
   },
   "outputs": [],
   "source": [
    "import io\n",
    "dataset = pd.read_csv('../input/framingham-heart-study-dataset/framingham.csv')\n",
    "X = dataset.iloc[:,:-1].values\n",
    "y = dataset.iloc[:,-1].values"
   ]
  },
  {
   "cell_type": "markdown",
   "metadata": {
    "papermill": {
     "duration": 0.01611,
     "end_time": "2020-12-25T08:42:35.815207",
     "exception": false,
     "start_time": "2020-12-25T08:42:35.799097",
     "status": "completed"
    },
    "tags": []
   },
   "source": [
    "# Taking care of missing values"
   ]
  },
  {
   "cell_type": "code",
   "execution_count": 3,
   "metadata": {
    "execution": {
     "iopub.execute_input": "2020-12-25T08:42:35.853911Z",
     "iopub.status.busy": "2020-12-25T08:42:35.853093Z",
     "iopub.status.idle": "2020-12-25T08:42:37.251176Z",
     "shell.execute_reply": "2020-12-25T08:42:37.250332Z"
    },
    "papermill": {
     "duration": 1.42004,
     "end_time": "2020-12-25T08:42:37.251310",
     "exception": false,
     "start_time": "2020-12-25T08:42:35.831270",
     "status": "completed"
    },
    "tags": []
   },
   "outputs": [],
   "source": [
    "from sklearn.impute import SimpleImputer\n",
    "imputer = SimpleImputer(missing_values = np.nan, strategy = 'mean')\n",
    "imputer.fit(X)\n",
    "X = imputer.transform(X)"
   ]
  },
  {
   "cell_type": "markdown",
   "metadata": {
    "papermill": {
     "duration": 0.016767,
     "end_time": "2020-12-25T08:42:37.284100",
     "exception": false,
     "start_time": "2020-12-25T08:42:37.267333",
     "status": "completed"
    },
    "tags": []
   },
   "source": [
    "# Splitting the dataset"
   ]
  },
  {
   "cell_type": "code",
   "execution_count": 4,
   "metadata": {
    "execution": {
     "iopub.execute_input": "2020-12-25T08:42:37.326983Z",
     "iopub.status.busy": "2020-12-25T08:42:37.325645Z",
     "iopub.status.idle": "2020-12-25T08:42:37.330635Z",
     "shell.execute_reply": "2020-12-25T08:42:37.331336Z"
    },
    "papermill": {
     "duration": 0.030009,
     "end_time": "2020-12-25T08:42:37.331505",
     "exception": false,
     "start_time": "2020-12-25T08:42:37.301496",
     "status": "completed"
    },
    "tags": []
   },
   "outputs": [],
   "source": [
    "from sklearn.model_selection import train_test_split\n",
    "x_train,x_test,y_train,y_test = train_test_split(X, y, test_size=0.2\n",
    ",random_state=0)"
   ]
  },
  {
   "cell_type": "markdown",
   "metadata": {
    "papermill": {
     "duration": 0.016505,
     "end_time": "2020-12-25T08:42:37.365012",
     "exception": false,
     "start_time": "2020-12-25T08:42:37.348507",
     "status": "completed"
    },
    "tags": []
   },
   "source": [
    "# Feature scaling"
   ]
  },
  {
   "cell_type": "code",
   "execution_count": 5,
   "metadata": {
    "execution": {
     "iopub.execute_input": "2020-12-25T08:42:37.406228Z",
     "iopub.status.busy": "2020-12-25T08:42:37.404844Z",
     "iopub.status.idle": "2020-12-25T08:42:37.410989Z",
     "shell.execute_reply": "2020-12-25T08:42:37.411544Z"
    },
    "papermill": {
     "duration": 0.02983,
     "end_time": "2020-12-25T08:42:37.411715",
     "exception": false,
     "start_time": "2020-12-25T08:42:37.381885",
     "status": "completed"
    },
    "tags": []
   },
   "outputs": [],
   "source": [
    "from sklearn.preprocessing import StandardScaler\n",
    "sc_x = StandardScaler()\n",
    "x_train = sc_x.fit_transform(x_train)\n",
    "x_test = sc_x.transform(x_test)"
   ]
  },
  {
   "cell_type": "markdown",
   "metadata": {
    "papermill": {
     "duration": 0.016033,
     "end_time": "2020-12-25T08:42:37.444290",
     "exception": false,
     "start_time": "2020-12-25T08:42:37.428257",
     "status": "completed"
    },
    "tags": []
   },
   "source": [
    "# Traing logistic regression model"
   ]
  },
  {
   "cell_type": "code",
   "execution_count": 6,
   "metadata": {
    "execution": {
     "iopub.execute_input": "2020-12-25T08:42:37.484546Z",
     "iopub.status.busy": "2020-12-25T08:42:37.483479Z",
     "iopub.status.idle": "2020-12-25T08:42:37.548522Z",
     "shell.execute_reply": "2020-12-25T08:42:37.549237Z"
    },
    "papermill": {
     "duration": 0.088557,
     "end_time": "2020-12-25T08:42:37.549445",
     "exception": false,
     "start_time": "2020-12-25T08:42:37.460888",
     "status": "completed"
    },
    "tags": []
   },
   "outputs": [
    {
     "data": {
      "text/plain": [
       "LogisticRegression()"
      ]
     },
     "execution_count": 6,
     "metadata": {},
     "output_type": "execute_result"
    }
   ],
   "source": [
    "from sklearn.linear_model import LogisticRegression\n",
    "lg = LogisticRegression()\n",
    "lg.fit(x_train,y_train)"
   ]
  },
  {
   "cell_type": "markdown",
   "metadata": {
    "papermill": {
     "duration": 0.02446,
     "end_time": "2020-12-25T08:42:37.596237",
     "exception": false,
     "start_time": "2020-12-25T08:42:37.571777",
     "status": "completed"
    },
    "tags": []
   },
   "source": [
    "# Predicting results of test"
   ]
  },
  {
   "cell_type": "code",
   "execution_count": 7,
   "metadata": {
    "execution": {
     "iopub.execute_input": "2020-12-25T08:42:37.659221Z",
     "iopub.status.busy": "2020-12-25T08:42:37.657696Z",
     "iopub.status.idle": "2020-12-25T08:42:37.660521Z",
     "shell.execute_reply": "2020-12-25T08:42:37.661472Z"
    },
    "papermill": {
     "duration": 0.039804,
     "end_time": "2020-12-25T08:42:37.661711",
     "exception": false,
     "start_time": "2020-12-25T08:42:37.621907",
     "status": "completed"
    },
    "tags": []
   },
   "outputs": [],
   "source": [
    "y_pred = lg.predict(x_test)"
   ]
  },
  {
   "cell_type": "markdown",
   "metadata": {
    "papermill": {
     "duration": 0.025282,
     "end_time": "2020-12-25T08:42:37.712716",
     "exception": false,
     "start_time": "2020-12-25T08:42:37.687434",
     "status": "completed"
    },
    "tags": []
   },
   "source": [
    "# Accuracy"
   ]
  },
  {
   "cell_type": "code",
   "execution_count": 8,
   "metadata": {
    "execution": {
     "iopub.execute_input": "2020-12-25T08:42:37.758223Z",
     "iopub.status.busy": "2020-12-25T08:42:37.757281Z",
     "iopub.status.idle": "2020-12-25T08:42:37.763888Z",
     "shell.execute_reply": "2020-12-25T08:42:37.764773Z"
    },
    "papermill": {
     "duration": 0.031465,
     "end_time": "2020-12-25T08:42:37.764988",
     "exception": false,
     "start_time": "2020-12-25T08:42:37.733523",
     "status": "completed"
    },
    "tags": []
   },
   "outputs": [
    {
     "name": "stdout",
     "output_type": "stream",
     "text": [
      "Accuracy of my model  0.8608490566037735\n"
     ]
    }
   ],
   "source": [
    "from sklearn.metrics import accuracy_score\n",
    "print('Accuracy of my model ' ,accuracy_score(y_test,y_pred))"
   ]
  },
  {
   "cell_type": "code",
   "execution_count": 9,
   "metadata": {
    "execution": {
     "iopub.execute_input": "2020-12-25T08:42:37.809221Z",
     "iopub.status.busy": "2020-12-25T08:42:37.808154Z",
     "iopub.status.idle": "2020-12-25T08:42:37.814113Z",
     "shell.execute_reply": "2020-12-25T08:42:37.813261Z"
    },
    "papermill": {
     "duration": 0.030269,
     "end_time": "2020-12-25T08:42:37.814282",
     "exception": false,
     "start_time": "2020-12-25T08:42:37.784013",
     "status": "completed"
    },
    "tags": []
   },
   "outputs": [
    {
     "name": "stdout",
     "output_type": "stream",
     "text": [
      "Current accuracy 0.8608490566037735\n"
     ]
    }
   ],
   "source": [
    "print(\"Current accuracy\",accuracy_score(y_test,y_pred))"
   ]
  },
  {
   "cell_type": "code",
   "execution_count": 10,
   "metadata": {
    "execution": {
     "iopub.execute_input": "2020-12-25T08:42:37.858224Z",
     "iopub.status.busy": "2020-12-25T08:42:37.857354Z",
     "iopub.status.idle": "2020-12-25T08:42:37.868415Z",
     "shell.execute_reply": "2020-12-25T08:42:37.867705Z"
    },
    "papermill": {
     "duration": 0.035174,
     "end_time": "2020-12-25T08:42:37.868542",
     "exception": false,
     "start_time": "2020-12-25T08:42:37.833368",
     "status": "completed"
    },
    "tags": []
   },
   "outputs": [
    {
     "name": "stdout",
     "output_type": "stream",
     "text": [
      "              precision    recall  f1-score   support\n",
      "\n",
      "           0       0.86      1.00      0.92       722\n",
      "           1       0.83      0.08      0.14       126\n",
      "\n",
      "    accuracy                           0.86       848\n",
      "   macro avg       0.85      0.54      0.53       848\n",
      "weighted avg       0.86      0.86      0.81       848\n",
      "\n"
     ]
    }
   ],
   "source": [
    "from sklearn.metrics import classification_report\n",
    "print(classification_report(y_test, y_pred))"
   ]
  },
  {
   "cell_type": "markdown",
   "metadata": {
    "papermill": {
     "duration": 0.019219,
     "end_time": "2020-12-25T08:42:37.907350",
     "exception": false,
     "start_time": "2020-12-25T08:42:37.888131",
     "status": "completed"
    },
    "tags": []
   },
   "source": [
    "# Confusion matrix"
   ]
  },
  {
   "cell_type": "code",
   "execution_count": 11,
   "metadata": {
    "execution": {
     "iopub.execute_input": "2020-12-25T08:42:37.953387Z",
     "iopub.status.busy": "2020-12-25T08:42:37.952411Z",
     "iopub.status.idle": "2020-12-25T08:42:37.959162Z",
     "shell.execute_reply": "2020-12-25T08:42:37.959969Z"
    },
    "papermill": {
     "duration": 0.032644,
     "end_time": "2020-12-25T08:42:37.960168",
     "exception": false,
     "start_time": "2020-12-25T08:42:37.927524",
     "status": "completed"
    },
    "tags": []
   },
   "outputs": [
    {
     "name": "stdout",
     "output_type": "stream",
     "text": [
      "[[720   2]\n",
      " [116  10]]\n"
     ]
    }
   ],
   "source": [
    "from sklearn.metrics import confusion_matrix\n",
    "cm = confusion_matrix(y_test,y_pred)\n",
    "print(cm)"
   ]
  },
  {
   "cell_type": "code",
   "execution_count": 12,
   "metadata": {
    "execution": {
     "iopub.execute_input": "2020-12-25T08:42:38.007046Z",
     "iopub.status.busy": "2020-12-25T08:42:38.006192Z",
     "iopub.status.idle": "2020-12-25T08:42:38.384488Z",
     "shell.execute_reply": "2020-12-25T08:42:38.385162Z"
    },
    "papermill": {
     "duration": 0.40455,
     "end_time": "2020-12-25T08:42:38.385368",
     "exception": false,
     "start_time": "2020-12-25T08:42:37.980818",
     "status": "completed"
    },
    "tags": []
   },
   "outputs": [
    {
     "data": {
      "image/png": "[encoded data removed]",
      "text/plain": [
       "<Figure size 432x288 with 2 Axes>"
      ]
     },
     "metadata": {
      "needs_background": "light"
     },
     "output_type": "display_data"
    }
   ],
   "source": [
    "import seaborn as sns\n",
    "sns.heatmap(pd.DataFrame(confusion_matrix(y_test,y_pred)))\n",
    "plt.show()"
   ]
  },
  {
   "cell_type": "markdown",
   "metadata": {
    "papermill": {
     "duration": 0.021527,
     "end_time": "2020-12-25T08:42:38.428229",
     "exception": false,
     "start_time": "2020-12-25T08:42:38.406702",
     "status": "completed"
    },
    "tags": []
   },
   "source": [
    "## For all predictions , the model predicted **YES** for total(2+10)->12 times, out of which 10 were actual YES (meaning the person has a risk of getting CHD).\n",
    "\n",
    "## The model predicted **YES** for total(720+116)-836 times, out of which 720 were actual NO (meaning the person dosent have a risk of getting CHD)."
   ]
  }
 ],
 "metadata": {
  "kernelspec": {
   "display_name": "Python 3",
   "language": "python",
   "name": "python3"
  },
  "language_info": {
   "codemirror_mode": {
    "name": "ipython",
    "version": 3
   },
   "file_extension": ".py",
   "mimetype": "text/x-python",
   "name": "python",
   "nbconvert_exporter": "python",
   "pygments_lexer": "ipython3",
   "version": "3.7.6"
  },
  "papermill": {
   "duration": 9.043672,
   "end_time": "2020-12-25T08:42:39.478566",
   "environment_variables": {},
   "exception": null,
   "input_path": "__notebook__.ipynb",
   "output_path": "__notebook__.ipynb",
   "parameters": {},
   "start_time": "2020-12-25T08:42:30.434894",
   "version": "2.1.0"
  }
 },
 "nbformat": 4,
 "nbformat_minor": 4
}
